{
 "cells": [
  {
   "cell_type": "markdown",
   "id": "b50663c4-ee77-4ce2-bc43-83c9d829fb7b",
   "metadata": {},
   "source": [
    "## Homework\n",
    "\n",
    "In this homework, we'll deploy the Bank Marketing model from the homework 5.\n",
    "We already have a docker image for this model - we'll use it for \n",
    "deploying the model to Kubernetes."
   ]
  },
  {
   "cell_type": "markdown",
   "id": "01da1771-e4db-4e11-8402-19c61db2f756",
   "metadata": {},
   "source": [
    "## Building the image\n",
    "\n",
    "Clone the course repo if you haven't:\n",
    "\n",
    "```\n",
    "git clone https://github.com/DataTalksClub/machine-learning-zoomcamp.git\n",
    "```\n",
    "\n",
    "Go to the `course-zoomcamp/cohorts/2024/05-deployment/homework` folder and \n",
    "execute the following:\n",
    "\n",
    "\n",
    "```bash\n",
    "docker build -t zoomcamp-model:3.11.5-hw10 .\n",
    "```\n",
    "\n",
    "> **Note:** If you have troubles building the image, you can \n",
    "> use the image we built and published to docker hub:\n",
    "> `docker pull svizor/zoomcamp-model:3.11.5-hw10`"
   ]
  },
  {
   "cell_type": "markdown",
   "id": "5811e24b-01ab-4457-96f0-9aeca63f6833",
   "metadata": {},
   "source": [
    "## Question 1\n",
    "\n",
    "Run it to test that it's working locally:\n",
    "\n",
    "```bash\n",
    "docker run -it --rm -p 9696:9696 zoomcamp-model:3.11.5-hw10\n",
    "```\n",
    "\n",
    "And in another terminal, execute `q6_test.py` file:\n",
    "\n",
    "```bash\n",
    "python q6_test.py\n",
    "```\n",
    "\n",
    "You should see this:\n",
    "\n",
    "```python\n",
    "{'has_subscribed': True, 'has_subscribed_probability': <value>}\n",
    "```"
   ]
  },
  {
   "cell_type": "markdown",
   "id": "990ad075-f0d3-40ce-8e8b-73613dfb4ab9",
   "metadata": {},
   "source": [
    "Here `<value>` is the probability of getting a subscription. You need to choose the right one.\n",
    "\n",
    "* 0.287\n",
    "* 0.530\n",
    "* 0.757\n",
    "* 0.960\n",
    "\n",
    "Now you can stop the container running in Docker."
   ]
  },
  {
   "cell_type": "code",
   "execution_count": 10,
   "id": "accfd1c6-0060-4904-a446-b676e975a193",
   "metadata": {},
   "outputs": [
    {
     "name": "stdout",
     "output_type": "stream",
     "text": [
      "total 56K\n",
      "-rw-rw-rw- 1 codespace codespace 253 Dec 16 07:35 Dockerfile\n",
      "-rw-rw-rw- 1 codespace codespace 191 Dec 16 07:35 Pipfile\n",
      "-rw-rw-rw- 1 codespace codespace 20K Dec 16 07:35 Pipfile.lock\n",
      "-rw-rw-rw- 1 codespace codespace 560 Dec 16 07:35 dv.bin\n",
      "-rw-rw-rw- 1 codespace codespace 850 Dec 16 07:35 model1.bin\n",
      "-rw-rw-rw- 1 codespace codespace 315 Dec 16 07:35 q3_test.py\n",
      "-rw-rw-rw- 1 codespace codespace 699 Dec 16 07:35 q4_predict.py\n",
      "-rw-rw-rw- 1 codespace codespace 192 Dec 16 07:35 q4_test.py\n",
      "-rw-rw-rw- 1 codespace codespace 699 Dec 16 07:35 q6_predict.py\n",
      "-rw-rw-rw- 1 codespace codespace 195 Dec 16 07:35 q6_test.py\n"
     ]
    }
   ],
   "source": [
    "!ls -lh machine-learning-zoomcamp/cohorts/2024/05-deployment/homework"
   ]
  },
  {
   "cell_type": "code",
   "execution_count": 11,
   "id": "e35d51d0-bf1d-411d-a2eb-89149ff7a7dd",
   "metadata": {},
   "outputs": [
    {
     "name": "stdout",
     "output_type": "stream",
     "text": [
      "{'has_subscribed': True, 'has_subscribed_probability': 0.756743795240796}\n"
     ]
    }
   ],
   "source": [
    "!cd machine-learning-zoomcamp/cohorts/2024/05-deployment/homework && \\\n",
    " python q6_test.py"
   ]
  },
  {
   "cell_type": "markdown",
   "id": "154f2b3a-50d6-4e9c-ba2c-6ea5495a8d12",
   "metadata": {},
   "source": [
    "Here `<value>` is the probability of getting a subscription. You need to choose the right one.\n",
    "\n",
    "* 0.287\n",
    "* 0.530\n",
    "* **0.757**\n",
    "* 0.960"
   ]
  },
  {
   "cell_type": "markdown",
   "id": "67026263-4c9f-4b39-9438-a71c7dd2bbdb",
   "metadata": {},
   "source": [
    "## Installing `kubectl` and `kind`\n",
    "\n",
    "You need to install:\n",
    "\n",
    "* `kubectl` - https://kubernetes.io/docs/tasks/tools/ (you might already have it - check before installing)\n",
    "* `kind` - https://kind.sigs.k8s.io/docs/user/quick-start/"
   ]
  },
  {
   "cell_type": "markdown",
   "id": "4c89e8bc-f0a0-4d7a-8120-ae934dcdcc2b",
   "metadata": {},
   "source": [
    "## Question 2\n",
    "\n",
    "What's the version of `kind` that you have? \n",
    "\n",
    "Use `kind --version` to find out.\n",
    "\n",
    "\n",
    "## Creating a cluster\n",
    "\n",
    "Now let's create a cluster with `kind`:\n",
    "\n",
    "```bash\n",
    "kind create cluster\n",
    "```\n",
    "\n",
    "And check with `kubectl` that it was successfully created:\n",
    "\n",
    "```bash\n",
    "kubectl cluster-info\n",
    "```"
   ]
  },
  {
   "cell_type": "code",
   "execution_count": 87,
   "id": "80f73967-617d-4172-95b3-eb11253773f0",
   "metadata": {},
   "outputs": [
    {
     "name": "stdout",
     "output_type": "stream",
     "text": [
      "kind version 0.25.0\n"
     ]
    }
   ],
   "source": [
    "!kind --version"
   ]
  },
  {
   "cell_type": "markdown",
   "id": "d7b5fe08-c6e5-4a31-a131-4e85d8fd9d77",
   "metadata": {},
   "source": [
    "## Question 3\n",
    "\n",
    "What's the smallest deployable computing unit that we can create and manage \n",
    "in Kubernetes (`kind` in our case)?\n",
    "\n",
    "* Node\n",
    "* **Pod**\n",
    "* Deployment\n",
    "* Service\n"
   ]
  },
  {
   "cell_type": "code",
   "execution_count": null,
   "id": "12ccf901-c43a-46f9-baa2-056ceed76901",
   "metadata": {},
   "outputs": [],
   "source": []
  },
  {
   "cell_type": "markdown",
   "id": "97faf54d-a624-4f45-80a9-629a85446f6d",
   "metadata": {},
   "source": [
    "## Question 4\n",
    "\n",
    "Now let's test if everything works. Use `kubectl` to get the list of running services.\n",
    "\n",
    "What's the `Type` of the service that is already running there?\n",
    "\n",
    "* NodePort\n",
    "* **ClusterIP**\n",
    "* ExternalName\n",
    "* LoadBalancer"
   ]
  },
  {
   "cell_type": "code",
   "execution_count": 15,
   "id": "2d16430d-cdfe-40ef-91a3-33a63685bca4",
   "metadata": {},
   "outputs": [
    {
     "name": "stdout",
     "output_type": "stream",
     "text": [
      "NAME         TYPE        CLUSTER-IP   EXTERNAL-IP   PORT(S)   AGE\n",
      "kubernetes   ClusterIP   10.96.0.1    <none>        443/TCP   6m9s\n"
     ]
    }
   ],
   "source": [
    "!kubectl get svc"
   ]
  },
  {
   "cell_type": "markdown",
   "id": "bc81267e-dc4d-4de6-b7c1-45c73fe454eb",
   "metadata": {},
   "source": [
    "## Question 5\n",
    "\n",
    "To be able to use the docker image we previously created (`zoomcamp-model:3.11.5-hw10`),\n",
    "we need to register it with `kind`.\n",
    "\n",
    "What's the command we need to run for that?\n",
    "\n",
    "* `kind create cluster`\n",
    "* `kind build node-image`\n",
    "* `kind load docker-image`\n",
    "* `kubectl apply`\n"
   ]
  },
  {
   "cell_type": "code",
   "execution_count": 16,
   "id": "ce7b01db-bc88-4713-aa08-4854e4245697",
   "metadata": {},
   "outputs": [
    {
     "name": "stdout",
     "output_type": "stream",
     "text": [
      "Image: \"zoomcamp-model:3.11.5-hw10\" with ID \"sha256:46219213d01694a1fc8109d976fa29f8ca99a59b3c2f9586e2536dee87729003\" not yet present on node \"kind-control-plane\", loading...\n"
     ]
    }
   ],
   "source": [
    "!kind load docker-image zoomcamp-model:3.11.5-hw10"
   ]
  },
  {
   "cell_type": "code",
   "execution_count": 18,
   "id": "f80b909c-f46d-46e6-b621-9a47c5dea8a7",
   "metadata": {},
   "outputs": [
    {
     "name": "stdout",
     "output_type": "stream",
     "text": [
      "Error from server (NotFound): nodes \"kind-worker\" not found\n"
     ]
    }
   ],
   "source": [
    "#!kubectl describe node kind-worker | grep -i image"
   ]
  },
  {
   "cell_type": "markdown",
   "id": "9e39a826-5e2d-4924-a9ff-2540e7ec0100",
   "metadata": {},
   "source": [
    "## Question 6\n",
    "\n",
    "Now let's create a deployment config (e.g. `deployment.yaml`):\n",
    "\n",
    "```yaml\n",
    "apiVersion: apps/v1\n",
    "kind: Deployment\n",
    "metadata:\n",
    "  name: subscription\n",
    "spec:\n",
    "  selector:\n",
    "    matchLabels:\n",
    "      app: subscription\n",
    "  replicas: 1\n",
    "  template:\n",
    "    metadata:\n",
    "      labels:\n",
    "        app: subscription\n",
    "    spec:\n",
    "      containers:\n",
    "      - name: subscription\n",
    "        image: <Image>\n",
    "        resources:\n",
    "          requests:\n",
    "            memory: \"64Mi\"\n",
    "            cpu: \"100m\"            \n",
    "          limits:\n",
    "            memory: <Memory>\n",
    "            cpu: <CPU>\n",
    "        ports:\n",
    "        - containerPort: <Port>\n",
    "```\n",
    "\n",
    "Replace `<Image>`, `<Memory>`, `<CPU>`, `<Port>` with the correct values.\n",
    "\n",
    "What is the value for `<Port>`?\n",
    "\n",
    "Apply this deployment using the appropriate command and get a list of running Pods. \n",
    "You can see one running Pod."
   ]
  },
  {
   "cell_type": "code",
   "execution_count": 22,
   "id": "ead348a7-5a2b-46d3-9b6d-3d6b13f9e501",
   "metadata": {},
   "outputs": [
    {
     "name": "stdout",
     "output_type": "stream",
     "text": [
      "Writing deployment.yaml\n"
     ]
    }
   ],
   "source": [
    "%%writefile deployment.yaml\n",
    "apiVersion: apps/v1\n",
    "kind: Deployment\n",
    "metadata:\n",
    "  name: subscription\n",
    "spec:\n",
    "  selector:\n",
    "    matchLabels:\n",
    "      app: subscription\n",
    "  replicas: 1\n",
    "  template:\n",
    "    metadata:\n",
    "      labels:\n",
    "        app: subscription\n",
    "    spec:\n",
    "      containers:\n",
    "      - name: subscription\n",
    "        image: zoomcamp-model:3.11.5-hw10\n",
    "        resources:\n",
    "          requests:\n",
    "            memory: \"64Mi\"\n",
    "            cpu: \"100m\"            \n",
    "          limits:\n",
    "            memory: \"128Mi\"   \n",
    "            cpu: \"200m\"       \n",
    "        ports:\n",
    "        - containerPort: 9696  "
   ]
  },
  {
   "cell_type": "code",
   "execution_count": 27,
   "id": "de37a546-cf0e-43c3-9a8d-bf6cd73b3c9f",
   "metadata": {},
   "outputs": [
    {
     "name": "stdout",
     "output_type": "stream",
     "text": [
      "-rw-rw-rw- 1 codespace codespace 533 Dec 16 14:12 deployment.yaml\n"
     ]
    }
   ],
   "source": [
    "!ls -lh deployment.yaml"
   ]
  },
  {
   "cell_type": "code",
   "execution_count": 28,
   "id": "86cc2084-da07-4ad5-908a-426c08e0e983",
   "metadata": {},
   "outputs": [
    {
     "name": "stdout",
     "output_type": "stream",
     "text": [
      "deployment.apps/subscription created\n"
     ]
    }
   ],
   "source": [
    "!kubectl apply -f deployment.yaml"
   ]
  },
  {
   "cell_type": "code",
   "execution_count": 30,
   "id": "2700797f-aeac-42c5-9ecc-626cc6a6b2e5",
   "metadata": {},
   "outputs": [
    {
     "name": "stdout",
     "output_type": "stream",
     "text": [
      "NAME                           READY   UP-TO-DATE   AVAILABLE   AGE\n",
      "deployment.apps/subscription   1/1     1            1           6s\n",
      "\n",
      "NAME                                READY   STATUS    RESTARTS   AGE\n",
      "pod/subscription-544b4f9664-j52nd   1/1     Running   0          6s\n"
     ]
    }
   ],
   "source": [
    "!kubectl get deploy,pod"
   ]
  },
  {
   "cell_type": "markdown",
   "id": "c43d09b9-45f8-4fb7-b2b2-b31645176dad",
   "metadata": {},
   "source": [
    "## Question 7\n",
    "\n",
    "Let's create a service for this deployment (`service.yaml`):\n",
    "\n",
    "```yaml\n",
    "apiVersion: v1\n",
    "kind: Service\n",
    "metadata:\n",
    "  name: <Service name>\n",
    "spec:\n",
    "  type: LoadBalancer\n",
    "  selector:\n",
    "    app: <???>\n",
    "  ports:\n",
    "  - port: 80\n",
    "    targetPort: <PORT>\n",
    "```\n",
    "\n",
    "Fill it in. What do we need to write instead of `<???>`?\n",
    "\n",
    "Apply this config file.\n"
   ]
  },
  {
   "cell_type": "code",
   "execution_count": 24,
   "id": "c50c52b9-5ff0-4fc0-b1e7-2aea0894124a",
   "metadata": {},
   "outputs": [
    {
     "name": "stdout",
     "output_type": "stream",
     "text": [
      "Writing service.yaml\n"
     ]
    }
   ],
   "source": [
    "%%writefile service.yaml\n",
    "apiVersion: v1\n",
    "kind: Service\n",
    "metadata:\n",
    "  name: subscription\n",
    "spec:\n",
    "  type: LoadBalancer\n",
    "  selector:\n",
    "    app: subscription\n",
    "  ports:\n",
    "  - port: 80\n",
    "    targetPort: 9696"
   ]
  },
  {
   "cell_type": "code",
   "execution_count": 31,
   "id": "66c06d60-2e3d-4af3-a8d5-564a30bba5df",
   "metadata": {},
   "outputs": [
    {
     "name": "stdout",
     "output_type": "stream",
     "text": [
      "-rw-rw-rw- 1 codespace codespace 164 Dec 16 14:12 service.yaml\n"
     ]
    }
   ],
   "source": [
    "!ls -lh service.yaml"
   ]
  },
  {
   "cell_type": "code",
   "execution_count": 32,
   "id": "72a60f36-21ff-4145-9989-811b53a6a033",
   "metadata": {},
   "outputs": [
    {
     "name": "stdout",
     "output_type": "stream",
     "text": [
      "service/subscription created\n"
     ]
    }
   ],
   "source": [
    "!kubectl apply -f service.yaml"
   ]
  },
  {
   "cell_type": "code",
   "execution_count": 33,
   "id": "fb738e26-b73a-4b98-a31f-8054bd64484d",
   "metadata": {},
   "outputs": [
    {
     "name": "stdout",
     "output_type": "stream",
     "text": [
      "NAME           TYPE           CLUSTER-IP   EXTERNAL-IP   PORT(S)        AGE\n",
      "kubernetes     ClusterIP      10.96.0.1    <none>        443/TCP        17m\n",
      "subscription   LoadBalancer   10.96.75.0   <pending>     80:31260/TCP   13s\n"
     ]
    }
   ],
   "source": [
    "!kubectl get svc"
   ]
  },
  {
   "cell_type": "code",
   "execution_count": 36,
   "id": "bd65802c-aeea-4ffc-b02a-1f689e1ce9ff",
   "metadata": {},
   "outputs": [
    {
     "name": "stdout",
     "output_type": "stream",
     "text": [
      "NAME                            READY   STATUS    RESTARTS   AGE     IP           NODE                 NOMINATED NODE   READINESS GATES\n",
      "subscription-544b4f9664-j52nd   1/1     Running   0          2m43s   10.244.0.5   kind-control-plane   <none>           <none>\n"
     ]
    }
   ],
   "source": [
    "!kubectl get po -o wide"
   ]
  },
  {
   "cell_type": "code",
   "execution_count": 34,
   "id": "93cd8510-6044-4d46-b193-da1d2c66e30a",
   "metadata": {},
   "outputs": [
    {
     "name": "stdout",
     "output_type": "stream",
     "text": [
      "Name:                     subscription\n",
      "Namespace:                default\n",
      "Labels:                   <none>\n",
      "Annotations:              <none>\n",
      "Selector:                 app=subscription\n",
      "Type:                     LoadBalancer\n",
      "IP Family Policy:         SingleStack\n",
      "IP Families:              IPv4\n",
      "IP:                       10.96.75.0\n",
      "IPs:                      10.96.75.0\n",
      "Port:                     <unset>  80/TCP\n",
      "TargetPort:               9696/TCP\n",
      "NodePort:                 <unset>  31260/TCP\n",
      "Endpoints:                10.244.0.5:9696\n",
      "Session Affinity:         None\n",
      "External Traffic Policy:  Cluster\n",
      "Internal Traffic Policy:  Cluster\n",
      "Events:                   <none>\n"
     ]
    }
   ],
   "source": [
    "!kubectl describe svc subscription"
   ]
  },
  {
   "cell_type": "markdown",
   "id": "2d8cbb25-6b2b-43a7-84bf-7fd63d4c0fc6",
   "metadata": {},
   "source": [
    "## Testing the service\n",
    "\n",
    "We can test our service locally by forwarding the port 9696 on our computer \n",
    "to the port 80 on the service:\n",
    "\n",
    "```bash\n",
    "kubectl port-forward service/<Service name> 9696:80\n",
    "```\n",
    "\n",
    "Run `q6_test.py` (from the homework 5) once again to verify that everything is working. \n",
    "You should get the same result as in Question 1."
   ]
  },
  {
   "cell_type": "code",
   "execution_count": 40,
   "id": "8d11cad5-3677-4a99-94cc-a1a61ba51758",
   "metadata": {},
   "outputs": [],
   "source": [
    "#!kubectl port-forward service/subscription 9696:80"
   ]
  },
  {
   "cell_type": "code",
   "execution_count": 42,
   "id": "5aec6c24-c386-49a3-a90f-0857462f36dc",
   "metadata": {},
   "outputs": [
    {
     "name": "stdout",
     "output_type": "stream",
     "text": [
      "{'has_subscribed': True, 'has_subscribed_probability': 0.756743795240796}\n"
     ]
    }
   ],
   "source": [
    "!cd machine-learning-zoomcamp/cohorts/2024/05-deployment/homework && \\\n",
    " python q6_test.py"
   ]
  },
  {
   "cell_type": "markdown",
   "id": "4b43bc66-7e09-4754-bd96-e0d9fa8b3d8c",
   "metadata": {},
   "source": [
    "## Autoscaling\n",
    "\n",
    "Now we're going to use a [HorizontalPodAutoscaler](https://kubernetes.io/docs/tasks/run-application/horizontal-pod-autoscale-walkthrough/) \n",
    "(HPA for short) that automatically updates a workload resource (such as our deployment), \n",
    "with the aim of automatically scaling the workload to match demand.\n",
    "\n",
    "Use the following command to create the HPA:\n",
    "\n",
    "```bash\n",
    "kubectl autoscale deployment subscription --name subscription-hpa --cpu-percent=20 --min=1 --max=3\n",
    "```\n",
    "\n",
    "You can check the current status of the new HPA by running:\n",
    "\n",
    "```bash\n",
    "kubectl get hpa\n",
    "```\n",
    "\n",
    "The output should be similar to the next:\n",
    "\n",
    "```bash\n",
    "NAME               REFERENCE                 TARGETS   MINPODS   MAXPODS   REPLICAS   AGE\n",
    "subscription-hpa   Deployment/subscription   1%/20%    1         3         1          27s\n",
    "```\n",
    "\n",
    "`TARGET` column shows the average CPU consumption across all the Pods controlled by the corresponding deployment.\n",
    "Current CPU consumption is about 0% as there are no clients sending requests to the server.\n",
    "> \n",
    ">Note: In case the HPA instance doesn't run properly, try to install the latest Metrics Server release \n",
    "> from the `components.yaml` manifest:\n",
    "> ```bash\n",
    "> kubectl apply -f https://github.com/kubernetes-sigs/metrics-server/releases/latest/download/components.yaml\n",
    ">```"
   ]
  },
  {
   "cell_type": "code",
   "execution_count": 47,
   "id": "05745bf1-b69c-4ce7-8bf8-220dd66658b0",
   "metadata": {},
   "outputs": [
    {
     "name": "stdout",
     "output_type": "stream",
     "text": [
      "serviceaccount/metrics-server created\n",
      "clusterrole.rbac.authorization.k8s.io/system:aggregated-metrics-reader created\n",
      "clusterrole.rbac.authorization.k8s.io/system:metrics-server created\n",
      "rolebinding.rbac.authorization.k8s.io/metrics-server-auth-reader created\n",
      "clusterrolebinding.rbac.authorization.k8s.io/metrics-server:system:auth-delegator created\n",
      "clusterrolebinding.rbac.authorization.k8s.io/system:metrics-server created\n",
      "service/metrics-server created\n",
      "deployment.apps/metrics-server created\n",
      "apiservice.apiregistration.k8s.io/v1beta1.metrics.k8s.io created\n"
     ]
    }
   ],
   "source": [
    "!kubectl apply -f https://github.com/kubernetes-sigs/metrics-server/releases/latest/download/components.yaml"
   ]
  },
  {
   "cell_type": "code",
   "execution_count": 79,
   "id": "3de44c32-a513-450e-a435-82b52b5a4636",
   "metadata": {},
   "outputs": [
    {
     "name": "stdout",
     "output_type": "stream",
     "text": [
      "NAME             READY   UP-TO-DATE   AVAILABLE   AGE\n",
      "metrics-server   1/1     1            1           33m\n"
     ]
    }
   ],
   "source": [
    "!kubectl get deployment metrics-server -n kube-system"
   ]
  },
  {
   "cell_type": "code",
   "execution_count": 73,
   "id": "d8d58182-7a0e-49f9-b8ed-0b61391b9ba0",
   "metadata": {},
   "outputs": [
    {
     "name": "stdout",
     "output_type": "stream",
     "text": [
      "I1216 14:55:42.011340       1 serving.go:374] Generated self-signed cert (/tmp/apiserver.crt, /tmp/apiserver.key)\n",
      "I1216 14:55:42.506082       1 handler.go:275] Adding GroupVersion metrics.k8s.io v1beta1 to ResourceManager\n",
      "I1216 14:55:42.614378       1 secure_serving.go:213] Serving securely on [::]:10250\n",
      "I1216 14:55:42.614449       1 requestheader_controller.go:169] Starting RequestHeaderAuthRequestController\n",
      "I1216 14:55:42.614459       1 shared_informer.go:311] Waiting for caches to sync for RequestHeaderAuthRequestController\n",
      "I1216 14:55:42.614493       1 dynamic_serving_content.go:132] \"Starting controller\" name=\"serving-cert::/tmp/apiserver.crt::/tmp/apiserver.key\"\n",
      "I1216 14:55:42.614599       1 tlsconfig.go:240] \"Starting DynamicServingCertificateController\"\n",
      "I1216 14:55:42.614709       1 configmap_cafile_content.go:202] \"Starting controller\" name=\"client-ca::kube-system::extension-apiserver-authentication::client-ca-file\"\n",
      "I1216 14:55:42.614732       1 shared_informer.go:311] Waiting for caches to sync for client-ca::kube-system::extension-apiserver-authentication::client-ca-file\n",
      "I1216 14:55:42.614751       1 configmap_cafile_content.go:202] \"Starting controller\" name=\"client-ca::kube-system::extension-apiserver-authentication::requestheader-client-ca-file\"\n",
      "I1216 14:55:42.614758       1 shared_informer.go:311] Waiting for caches to sync for client-ca::kube-system::extension-apiserver-authentication::requestheader-client-ca-file\n",
      "I1216 14:55:42.714509       1 shared_informer.go:318] Caches are synced for RequestHeaderAuthRequestController\n",
      "I1216 14:55:42.715690       1 shared_informer.go:318] Caches are synced for client-ca::kube-system::extension-apiserver-authentication::requestheader-client-ca-file\n",
      "I1216 14:55:42.715691       1 shared_informer.go:318] Caches are synced for client-ca::kube-system::extension-apiserver-authentication::client-ca-file\n"
     ]
    }
   ],
   "source": [
    "!kubectl logs -n kube-system deployment/metrics-server"
   ]
  },
  {
   "cell_type": "markdown",
   "id": "58d0730d-d349-495e-9710-ac84d9a4e715",
   "metadata": {},
   "source": [
    "If existe following fail:\n",
    "\n",
    "\"Failed to scrape node\" err=\"Get \\\"https://172.18.0.2:10250/metrics/resource\\\": tls: failed to verify certificate: x509: cannot validate certificate for 172.18.0.2 because it doesn't contain any IP SANs\" node=\"kind-control-plane\""
   ]
  },
  {
   "cell_type": "markdown",
   "id": "68160ab0-a23e-49fb-92cd-98f7f013aaad",
   "metadata": {},
   "source": [
    "\n",
    "```bash\n",
    "kubectl edit deployment metrics-server -n kube-system\n",
    "```\n",
    "\n",
    "```yaml\n",
    "spec:\n",
    "  containers:\n",
    "  - name: metrics-server\n",
    "    image: k8s.gcr.io/metrics-server/metrics-server:v0.6.1\n",
    "    args:\n",
    "      - --cert-dir=/tmp\n",
    "      - --secure-port=4443\n",
    "      - --kubelet-insecure-tls   # Añadir esta línea\n",
    "      - --kubelet-preferred-address-types=InternalIP,ExternalIP,Hostname\n",
    "```"
   ]
  },
  {
   "cell_type": "code",
   "execution_count": 75,
   "id": "232d8196-2fef-420f-8be1-92584f1871d1",
   "metadata": {},
   "outputs": [],
   "source": [
    "#!kubectl delete hpa subscription-hpa"
   ]
  },
  {
   "cell_type": "code",
   "execution_count": 76,
   "id": "0dd536a0-55b4-456a-b20e-46736e73b2c9",
   "metadata": {},
   "outputs": [
    {
     "name": "stdout",
     "output_type": "stream",
     "text": [
      "horizontalpodautoscaler.autoscaling/subscription-hpa autoscaled\n"
     ]
    }
   ],
   "source": [
    "!kubectl autoscale deployment subscription --name subscription-hpa --cpu-percent=20 --min=1 --max=3"
   ]
  },
  {
   "cell_type": "code",
   "execution_count": 85,
   "id": "fecfcc3c-6e5e-475b-ba94-3a9459e8b467",
   "metadata": {},
   "outputs": [
    {
     "name": "stdout",
     "output_type": "stream",
     "text": [
      "NAME               REFERENCE                 TARGETS       MINPODS   MAXPODS   REPLICAS   AGE\n",
      "subscription-hpa   Deployment/subscription   cpu: 1%/20%   1         3         1          5m58s\n"
     ]
    }
   ],
   "source": [
    "!kubectl get hpa"
   ]
  },
  {
   "cell_type": "markdown",
   "id": "fd112726-9cad-4ada-bb76-76e15cd263bf",
   "metadata": {},
   "source": [
    "## Increase the load\n",
    "\n",
    "Let's see how the autoscaler reacts to increasing the load. To do this, we can slightly modify the existing\n",
    "`q6_test.py` script by putting the operator that sends the request to the subscription service into a loop.\n",
    "\n",
    "```python\n",
    "while True:\n",
    "    sleep(0.1)\n",
    "    response = requests.post(url, json=client).json()\n",
    "    print(response)\n",
    "```\n",
    "\n",
    "Now you can run this script."
   ]
  },
  {
   "cell_type": "code",
   "execution_count": 82,
   "id": "d637b1b0-6c71-42bf-a115-dceab8f8bad3",
   "metadata": {},
   "outputs": [
    {
     "name": "stdout",
     "output_type": "stream",
     "text": [
      "Overwriting q6_test_mod.py\n"
     ]
    }
   ],
   "source": [
    "%%writefile q6_test_mod.py\n",
    "import requests\n",
    "from time import sleep\n",
    "url = \"http://localhost:9696/predict\"\n",
    "client = {\"job\": \"management\", \"duration\": 400, \"poutcome\": \"success\"}\n",
    "while True:\n",
    "    sleep(0.1)\n",
    "    response = requests.post(url, json=client).json()\n",
    "    print(response)"
   ]
  },
  {
   "cell_type": "markdown",
   "id": "73974d80-e44d-408a-8883-655ed991cd24",
   "metadata": {},
   "source": [
    "## Question 8 (optional)\n",
    "\n",
    "Run `kubectl get hpa subscription-hpa --watch` command to monitor how the autoscaler performs. \n",
    "Within a minute or so, you should see the higher CPU load; and then - more replicas. \n",
    "What was the maximum amount of the replicas during this test?\n",
    "\n",
    "\n",
    "* 1\n",
    "* 2\n",
    "* **3**\n",
    "* 4\n",
    "\n",
    "> Note: It may take a few minutes to stabilize the number of replicas. Since the amount of load is not controlled \n",
    "> in any way it may happen that the final number of replicas will differ from initial."
   ]
  },
  {
   "cell_type": "code",
   "execution_count": 86,
   "id": "1e807b31-c9c7-4959-a1d6-64111d4dcc21",
   "metadata": {},
   "outputs": [
    {
     "name": "stdout",
     "output_type": "stream",
     "text": [
      "NAME               REFERENCE                 TARGETS       MINPODS   MAXPODS   REPLICAS   AGE\n",
      "subscription-hpa   Deployment/subscription   cpu: 1%/20%   1         3         1          6m3s\n",
      "subscription-hpa   Deployment/subscription   cpu: 11%/20%   1         3         1          7m46s\n",
      "subscription-hpa   Deployment/subscription   cpu: 14%/20%   1         3         1          8m1s\n",
      "subscription-hpa   Deployment/subscription   cpu: 15%/20%   1         3         1          8m46s\n",
      "subscription-hpa   Deployment/subscription   cpu: 14%/20%   1         3         1          9m1s\n",
      "subscription-hpa   Deployment/subscription   cpu: 13%/20%   1         3         1          11m\n",
      "subscription-hpa   Deployment/subscription   cpu: 14%/20%   1         3         1          11m\n",
      "subscription-hpa   Deployment/subscription   cpu: 13%/20%   1         3         1          11m\n",
      "subscription-hpa   Deployment/subscription   cpu: 14%/20%   1         3         1          11m\n",
      "subscription-hpa   Deployment/subscription   cpu: 13%/20%   1         3         1          13m\n",
      "subscription-hpa   Deployment/subscription   cpu: 14%/20%   1         3         1          13m\n",
      "subscription-hpa   Deployment/subscription   cpu: 13%/20%   1         3         1          13m\n",
      "subscription-hpa   Deployment/subscription   cpu: 14%/20%   1         3         1          14m\n",
      "subscription-hpa   Deployment/subscription   cpu: 13%/20%   1         3         1          15m\n",
      "subscription-hpa   Deployment/subscription   cpu: 14%/20%   1         3         1          15m\n",
      "subscription-hpa   Deployment/subscription   cpu: 13%/20%   1         3         1          16m\n",
      "subscription-hpa   Deployment/subscription   cpu: 14%/20%   1         3         1          16m\n",
      "subscription-hpa   Deployment/subscription   cpu: 13%/20%   1         3         1          16m\n",
      "subscription-hpa   Deployment/subscription   cpu: 14%/20%   1         3         1          17m\n",
      "subscription-hpa   Deployment/subscription   cpu: 13%/20%   1         3         1          20m\n",
      "subscription-hpa   Deployment/subscription   cpu: 14%/20%   1         3         1          21m\n",
      "subscription-hpa   Deployment/subscription   cpu: 13%/20%   1         3         1          22m\n",
      "subscription-hpa   Deployment/subscription   cpu: 14%/20%   1         3         1          22m\n",
      "subscription-hpa   Deployment/subscription   cpu: 13%/20%   1         3         1          25m\n",
      "subscription-hpa   Deployment/subscription   cpu: 14%/20%   1         3         1          25m\n",
      "subscription-hpa   Deployment/subscription   cpu: 13%/20%   1         3         1          26m\n",
      "subscription-hpa   Deployment/subscription   cpu: 14%/20%   1         3         1          27m\n",
      "subscription-hpa   Deployment/subscription   cpu: 16%/20%   1         3         1          28m\n",
      "subscription-hpa   Deployment/subscription   cpu: 27%/20%   1         3         1          29m\n",
      "subscription-hpa   Deployment/subscription   cpu: 27%/20%   1         3         2          29m\n",
      "subscription-hpa   Deployment/subscription   cpu: 26%/20%   1         3         2          29m\n",
      "subscription-hpa   Deployment/subscription   cpu: 14%/20%   1         3         2          29m\n",
      "subscription-hpa   Deployment/subscription   cpu: 15%/20%   1         3         2          30m\n",
      "subscription-hpa   Deployment/subscription   cpu: 17%/20%   1         3         2          31m\n",
      "subscription-hpa   Deployment/subscription   cpu: 21%/20%   1         3         2          31m\n",
      "subscription-hpa   Deployment/subscription   cpu: 20%/20%   1         3         2          31m\n",
      "subscription-hpa   Deployment/subscription   cpu: 21%/20%   1         3         2          32m\n",
      "subscription-hpa   Deployment/subscription   cpu: 22%/20%   1         3         2          32m\n",
      "subscription-hpa   Deployment/subscription   cpu: 22%/20%   1         3         3          32m\n",
      "subscription-hpa   Deployment/subscription   cpu: 21%/20%   1         3         3          33m\n",
      "subscription-hpa   Deployment/subscription   cpu: 14%/20%   1         3         3          33m\n",
      "subscription-hpa   Deployment/subscription   cpu: 15%/20%   1         3         3          33m\n",
      "subscription-hpa   Deployment/subscription   cpu: 19%/20%   1         3         3          34m\n",
      "subscription-hpa   Deployment/subscription   cpu: 20%/20%   1         3         3          34m\n",
      "subscription-hpa   Deployment/subscription   cpu: 19%/20%   1         3         3          34m\n",
      "subscription-hpa   Deployment/subscription   cpu: 18%/20%   1         3         3          35m\n",
      "subscription-hpa   Deployment/subscription   cpu: 19%/20%   1         3         3          35m\n",
      "subscription-hpa   Deployment/subscription   cpu: 18%/20%   1         3         3          36m\n",
      "subscription-hpa   Deployment/subscription   cpu: 19%/20%   1         3         3          36m\n",
      "subscription-hpa   Deployment/subscription   cpu: 22%/20%   1         3         3          38m\n",
      "subscription-hpa   Deployment/subscription   cpu: 23%/20%   1         3         3          38m\n",
      "subscription-hpa   Deployment/subscription   cpu: 24%/20%   1         3         3          38m\n",
      "subscription-hpa   Deployment/subscription   cpu: 22%/20%   1         3         3          39m\n",
      "subscription-hpa   Deployment/subscription   cpu: 23%/20%   1         3         3          39m\n",
      "subscription-hpa   Deployment/subscription   cpu: 24%/20%   1         3         3          39m\n",
      "subscription-hpa   Deployment/subscription   cpu: 23%/20%   1         3         3          40m\n",
      "^C\n"
     ]
    }
   ],
   "source": [
    "!kubectl get hpa subscription-hpa --watch"
   ]
  },
  {
   "cell_type": "markdown",
   "id": "5fb48bfa-9232-4a25-870d-286664e03aeb",
   "metadata": {},
   "source": [
    "## Submit the results\n",
    "\n",
    "* Submit your results here: https://courses.datatalks.club/ml-zoomcamp-2024/homework/hw10\n",
    "* If your answer doesn't match options exactly, select the closest one"
   ]
  },
  {
   "cell_type": "code",
   "execution_count": null,
   "id": "61c31b78-18c8-4917-86d4-1920c74ccf84",
   "metadata": {},
   "outputs": [],
   "source": []
  }
 ],
 "metadata": {
  "kernelspec": {
   "display_name": "Python 3 (ipykernel)",
   "language": "python",
   "name": "python3"
  },
  "language_info": {
   "codemirror_mode": {
    "name": "ipython",
    "version": 3
   },
   "file_extension": ".py",
   "mimetype": "text/x-python",
   "name": "python",
   "nbconvert_exporter": "python",
   "pygments_lexer": "ipython3",
   "version": "3.12.1"
  }
 },
 "nbformat": 4,
 "nbformat_minor": 5
}
