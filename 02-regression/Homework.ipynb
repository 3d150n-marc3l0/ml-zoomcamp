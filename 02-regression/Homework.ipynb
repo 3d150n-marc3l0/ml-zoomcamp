{
 "cells": [
  {
   "cell_type": "markdown",
   "id": "a6263092-470c-4d8e-804d-c2f0ac149258",
   "metadata": {},
   "source": [
    "### Imports"
   ]
  },
  {
   "cell_type": "code",
   "execution_count": 305,
   "id": "3ce555ad-11cb-4bc6-a061-e62979ad19c5",
   "metadata": {},
   "outputs": [],
   "source": [
    "import numpy as np\n",
    "import pandas as pd"
   ]
  },
  {
   "cell_type": "code",
   "execution_count": 306,
   "id": "fae5ac87-7f72-4b29-85e9-eebdcd5b7e9e",
   "metadata": {},
   "outputs": [
    {
     "name": "stdout",
     "output_type": "stream",
     "text": [
      "--2024-10-09 23:46:38--  https://raw.githubusercontent.com/alexeygrigorev/datasets/master/laptops.csv\n",
      "Resolving raw.githubusercontent.com (raw.githubusercontent.com)... 185.199.110.133, 185.199.109.133, 185.199.111.133, ...\n",
      "Connecting to raw.githubusercontent.com (raw.githubusercontent.com)|185.199.110.133|:443... connected.\n",
      "HTTP request sent, awaiting response... 200 OK\n",
      "Length: 298573 (292K) [text/plain]\n",
      "Saving to: ‘laptops.csv.1’\n",
      "\n",
      "laptops.csv.1       100%[===================>] 291,58K  --.-KB/s    in 0,05s   \n",
      "\n",
      "2024-10-09 23:46:38 (5,68 MB/s) - ‘laptops.csv.1’ saved [298573/298573]\n",
      "\n"
     ]
    }
   ],
   "source": [
    "!wget https://raw.githubusercontent.com/alexeygrigorev/datasets/master/laptops.csv"
   ]
  },
  {
   "cell_type": "markdown",
   "id": "8a8d2a30-487a-4251-b640-72a00bf45197",
   "metadata": {},
   "source": [
    "### Preparing the dataset \n",
    "\n",
    "First, we'll normalize the names of the columns:"
   ]
  },
  {
   "cell_type": "code",
   "execution_count": 307,
   "id": "3701a6fa-3edb-4247-865d-89650227c343",
   "metadata": {},
   "outputs": [],
   "source": [
    "df = pd.read_csv(\"laptops.csv\")"
   ]
  },
  {
   "cell_type": "code",
   "execution_count": 308,
   "id": "56a51765-af4a-4d7f-b832-f7c7ec25e34f",
   "metadata": {},
   "outputs": [
    {
     "data": {
      "text/plain": [
       "Index(['Laptop', 'Status', 'Brand', 'Model', 'CPU', 'RAM', 'Storage',\n",
       "       'Storage type', 'GPU', 'Screen', 'Touch', 'Final Price'],\n",
       "      dtype='object')"
      ]
     },
     "execution_count": 308,
     "metadata": {},
     "output_type": "execute_result"
    }
   ],
   "source": [
    "df.columns"
   ]
  },
  {
   "cell_type": "code",
   "execution_count": 309,
   "id": "f6e0954e-b326-40c0-b17f-b68175fbb4d4",
   "metadata": {},
   "outputs": [],
   "source": [
    "df.columns = df.columns.str.lower().str.replace(' ', '_')"
   ]
  },
  {
   "cell_type": "code",
   "execution_count": 310,
   "id": "d88e7f6e-5f08-44c0-8b7b-0be2d1d9c683",
   "metadata": {},
   "outputs": [
    {
     "data": {
      "text/plain": [
       "Index(['laptop', 'status', 'brand', 'model', 'cpu', 'ram', 'storage',\n",
       "       'storage_type', 'gpu', 'screen', 'touch', 'final_price'],\n",
       "      dtype='object')"
      ]
     },
     "execution_count": 310,
     "metadata": {},
     "output_type": "execute_result"
    }
   ],
   "source": [
    "df.columns"
   ]
  },
  {
   "cell_type": "code",
   "execution_count": 311,
   "id": "d90e9943-5ec3-47b8-a200-aaf9f2379c59",
   "metadata": {},
   "outputs": [
    {
     "data": {
      "text/html": [
       "<div>\n",
       "<style scoped>\n",
       "    .dataframe tbody tr th:only-of-type {\n",
       "        vertical-align: middle;\n",
       "    }\n",
       "\n",
       "    .dataframe tbody tr th {\n",
       "        vertical-align: top;\n",
       "    }\n",
       "\n",
       "    .dataframe thead th {\n",
       "        text-align: right;\n",
       "    }\n",
       "</style>\n",
       "<table border=\"1\" class=\"dataframe\">\n",
       "  <thead>\n",
       "    <tr style=\"text-align: right;\">\n",
       "      <th></th>\n",
       "      <th>laptop</th>\n",
       "      <th>status</th>\n",
       "      <th>brand</th>\n",
       "      <th>model</th>\n",
       "      <th>cpu</th>\n",
       "      <th>ram</th>\n",
       "      <th>storage</th>\n",
       "      <th>storage_type</th>\n",
       "      <th>gpu</th>\n",
       "      <th>screen</th>\n",
       "      <th>touch</th>\n",
       "      <th>final_price</th>\n",
       "    </tr>\n",
       "  </thead>\n",
       "  <tbody>\n",
       "    <tr>\n",
       "      <th>0</th>\n",
       "      <td>ASUS ExpertBook B1 B1502CBA-EJ0436X Intel Core...</td>\n",
       "      <td>New</td>\n",
       "      <td>Asus</td>\n",
       "      <td>ExpertBook</td>\n",
       "      <td>Intel Core i5</td>\n",
       "      <td>8</td>\n",
       "      <td>512</td>\n",
       "      <td>SSD</td>\n",
       "      <td>NaN</td>\n",
       "      <td>15.6</td>\n",
       "      <td>No</td>\n",
       "      <td>1009.00</td>\n",
       "    </tr>\n",
       "    <tr>\n",
       "      <th>1</th>\n",
       "      <td>Alurin Go Start Intel Celeron N4020/8GB/256GB ...</td>\n",
       "      <td>New</td>\n",
       "      <td>Alurin</td>\n",
       "      <td>Go</td>\n",
       "      <td>Intel Celeron</td>\n",
       "      <td>8</td>\n",
       "      <td>256</td>\n",
       "      <td>SSD</td>\n",
       "      <td>NaN</td>\n",
       "      <td>15.6</td>\n",
       "      <td>No</td>\n",
       "      <td>299.00</td>\n",
       "    </tr>\n",
       "    <tr>\n",
       "      <th>2</th>\n",
       "      <td>ASUS ExpertBook B1 B1502CBA-EJ0424X Intel Core...</td>\n",
       "      <td>New</td>\n",
       "      <td>Asus</td>\n",
       "      <td>ExpertBook</td>\n",
       "      <td>Intel Core i3</td>\n",
       "      <td>8</td>\n",
       "      <td>256</td>\n",
       "      <td>SSD</td>\n",
       "      <td>NaN</td>\n",
       "      <td>15.6</td>\n",
       "      <td>No</td>\n",
       "      <td>789.00</td>\n",
       "    </tr>\n",
       "    <tr>\n",
       "      <th>3</th>\n",
       "      <td>MSI Katana GF66 12UC-082XES Intel Core i7-1270...</td>\n",
       "      <td>New</td>\n",
       "      <td>MSI</td>\n",
       "      <td>Katana</td>\n",
       "      <td>Intel Core i7</td>\n",
       "      <td>16</td>\n",
       "      <td>1000</td>\n",
       "      <td>SSD</td>\n",
       "      <td>RTX 3050</td>\n",
       "      <td>15.6</td>\n",
       "      <td>No</td>\n",
       "      <td>1199.00</td>\n",
       "    </tr>\n",
       "    <tr>\n",
       "      <th>4</th>\n",
       "      <td>HP 15S-FQ5085NS Intel Core i5-1235U/16GB/512GB...</td>\n",
       "      <td>New</td>\n",
       "      <td>HP</td>\n",
       "      <td>15S</td>\n",
       "      <td>Intel Core i5</td>\n",
       "      <td>16</td>\n",
       "      <td>512</td>\n",
       "      <td>SSD</td>\n",
       "      <td>NaN</td>\n",
       "      <td>15.6</td>\n",
       "      <td>No</td>\n",
       "      <td>669.01</td>\n",
       "    </tr>\n",
       "  </tbody>\n",
       "</table>\n",
       "</div>"
      ],
      "text/plain": [
       "                                              laptop status   brand  \\\n",
       "0  ASUS ExpertBook B1 B1502CBA-EJ0436X Intel Core...    New    Asus   \n",
       "1  Alurin Go Start Intel Celeron N4020/8GB/256GB ...    New  Alurin   \n",
       "2  ASUS ExpertBook B1 B1502CBA-EJ0424X Intel Core...    New    Asus   \n",
       "3  MSI Katana GF66 12UC-082XES Intel Core i7-1270...    New     MSI   \n",
       "4  HP 15S-FQ5085NS Intel Core i5-1235U/16GB/512GB...    New      HP   \n",
       "\n",
       "        model            cpu  ram  storage storage_type       gpu  screen  \\\n",
       "0  ExpertBook  Intel Core i5    8      512          SSD       NaN    15.6   \n",
       "1          Go  Intel Celeron    8      256          SSD       NaN    15.6   \n",
       "2  ExpertBook  Intel Core i3    8      256          SSD       NaN    15.6   \n",
       "3      Katana  Intel Core i7   16     1000          SSD  RTX 3050    15.6   \n",
       "4         15S  Intel Core i5   16      512          SSD       NaN    15.6   \n",
       "\n",
       "  touch  final_price  \n",
       "0    No      1009.00  \n",
       "1    No       299.00  \n",
       "2    No       789.00  \n",
       "3    No      1199.00  \n",
       "4    No       669.01  "
      ]
     },
     "execution_count": 311,
     "metadata": {},
     "output_type": "execute_result"
    }
   ],
   "source": [
    "df.head(5)"
   ]
  },
  {
   "cell_type": "markdown",
   "id": "a21e737e-a336-4b9a-bd76-48522d6c80ff",
   "metadata": {},
   "source": [
    "### EDA\n",
    "\n",
    "* Look at the `final_price` variable. Does it have a long tail? "
   ]
  },
  {
   "cell_type": "markdown",
   "id": "15432113-c552-4017-86fe-b7388f57a702",
   "metadata": {},
   "source": [
    "\n",
    "### Question 1\n",
    "\n",
    "There's one column with missing values. What is it?\n",
    "\n",
    "\n",
    "* `'ram'`\n",
    "* `'storage'`\n",
    "* `'screen'`\n",
    "* `'final_price'`\n"
   ]
  },
  {
   "cell_type": "code",
   "execution_count": 312,
   "id": "fe5c4146-49ff-488d-8a5b-cea8f170d25f",
   "metadata": {},
   "outputs": [
    {
     "data": {
      "text/plain": [
       "laptop             0\n",
       "status             0\n",
       "brand              0\n",
       "model              0\n",
       "cpu                0\n",
       "ram                0\n",
       "storage            0\n",
       "storage_type      42\n",
       "gpu             1371\n",
       "screen             4\n",
       "touch              0\n",
       "final_price        0\n",
       "dtype: int64"
      ]
     },
     "execution_count": 312,
     "metadata": {},
     "output_type": "execute_result"
    }
   ],
   "source": [
    "df.isnull().sum()"
   ]
  },
  {
   "cell_type": "markdown",
   "id": "778f16cf-fa75-4079-9ec3-c4cefcf3abf6",
   "metadata": {},
   "source": [
    "\n",
    "* `'ram'`\n",
    "* `'storage'`\n",
    "* **`'screen'`**\n",
    "* `'final_price'`\n"
   ]
  },
  {
   "cell_type": "markdown",
   "id": "78083125-bcfe-4ebc-9f43-0cdef61e51b6",
   "metadata": {},
   "source": [
    "### Question 2"
   ]
  },
  {
   "cell_type": "markdown",
   "id": "74858244-0a14-40a9-8c02-d9b631a50e8f",
   "metadata": {},
   "source": [
    "What's the median (50% percentile) for variable `'ram'`?\n",
    "\n",
    "- 8\n",
    "- 16\n",
    "- 24\n",
    "- 32"
   ]
  },
  {
   "cell_type": "code",
   "execution_count": 313,
   "id": "8e3d9fdd-bd8c-455a-bfab-1e75e35823cf",
   "metadata": {},
   "outputs": [
    {
     "data": {
      "text/html": [
       "<div>\n",
       "<style scoped>\n",
       "    .dataframe tbody tr th:only-of-type {\n",
       "        vertical-align: middle;\n",
       "    }\n",
       "\n",
       "    .dataframe tbody tr th {\n",
       "        vertical-align: top;\n",
       "    }\n",
       "\n",
       "    .dataframe thead th {\n",
       "        text-align: right;\n",
       "    }\n",
       "</style>\n",
       "<table border=\"1\" class=\"dataframe\">\n",
       "  <thead>\n",
       "    <tr style=\"text-align: right;\">\n",
       "      <th></th>\n",
       "      <th>ram</th>\n",
       "      <th>storage</th>\n",
       "      <th>screen</th>\n",
       "      <th>final_price</th>\n",
       "    </tr>\n",
       "  </thead>\n",
       "  <tbody>\n",
       "    <tr>\n",
       "      <th>count</th>\n",
       "      <td>2160.000000</td>\n",
       "      <td>2160.000000</td>\n",
       "      <td>2156.000000</td>\n",
       "      <td>2160.000000</td>\n",
       "    </tr>\n",
       "    <tr>\n",
       "      <th>mean</th>\n",
       "      <td>15.413889</td>\n",
       "      <td>596.294444</td>\n",
       "      <td>15.168112</td>\n",
       "      <td>1312.638509</td>\n",
       "    </tr>\n",
       "    <tr>\n",
       "      <th>std</th>\n",
       "      <td>9.867815</td>\n",
       "      <td>361.220506</td>\n",
       "      <td>1.203329</td>\n",
       "      <td>911.475417</td>\n",
       "    </tr>\n",
       "    <tr>\n",
       "      <th>min</th>\n",
       "      <td>4.000000</td>\n",
       "      <td>0.000000</td>\n",
       "      <td>10.100000</td>\n",
       "      <td>201.050000</td>\n",
       "    </tr>\n",
       "    <tr>\n",
       "      <th>25%</th>\n",
       "      <td>8.000000</td>\n",
       "      <td>256.000000</td>\n",
       "      <td>14.000000</td>\n",
       "      <td>661.082500</td>\n",
       "    </tr>\n",
       "    <tr>\n",
       "      <th>50%</th>\n",
       "      <td>16.000000</td>\n",
       "      <td>512.000000</td>\n",
       "      <td>15.600000</td>\n",
       "      <td>1031.945000</td>\n",
       "    </tr>\n",
       "    <tr>\n",
       "      <th>75%</th>\n",
       "      <td>16.000000</td>\n",
       "      <td>1000.000000</td>\n",
       "      <td>15.600000</td>\n",
       "      <td>1708.970000</td>\n",
       "    </tr>\n",
       "    <tr>\n",
       "      <th>max</th>\n",
       "      <td>128.000000</td>\n",
       "      <td>4000.000000</td>\n",
       "      <td>18.000000</td>\n",
       "      <td>7150.470000</td>\n",
       "    </tr>\n",
       "  </tbody>\n",
       "</table>\n",
       "</div>"
      ],
      "text/plain": [
       "               ram      storage       screen  final_price\n",
       "count  2160.000000  2160.000000  2156.000000  2160.000000\n",
       "mean     15.413889   596.294444    15.168112  1312.638509\n",
       "std       9.867815   361.220506     1.203329   911.475417\n",
       "min       4.000000     0.000000    10.100000   201.050000\n",
       "25%       8.000000   256.000000    14.000000   661.082500\n",
       "50%      16.000000   512.000000    15.600000  1031.945000\n",
       "75%      16.000000  1000.000000    15.600000  1708.970000\n",
       "max     128.000000  4000.000000    18.000000  7150.470000"
      ]
     },
     "execution_count": 313,
     "metadata": {},
     "output_type": "execute_result"
    }
   ],
   "source": [
    "df.describe()"
   ]
  },
  {
   "cell_type": "code",
   "execution_count": 314,
   "id": "285b7ba3-941c-40ab-8681-dbefc0d238d3",
   "metadata": {},
   "outputs": [
    {
     "data": {
      "text/html": [
       "<div>\n",
       "<style scoped>\n",
       "    .dataframe tbody tr th:only-of-type {\n",
       "        vertical-align: middle;\n",
       "    }\n",
       "\n",
       "    .dataframe tbody tr th {\n",
       "        vertical-align: top;\n",
       "    }\n",
       "\n",
       "    .dataframe thead th {\n",
       "        text-align: right;\n",
       "    }\n",
       "</style>\n",
       "<table border=\"1\" class=\"dataframe\">\n",
       "  <thead>\n",
       "    <tr style=\"text-align: right;\">\n",
       "      <th></th>\n",
       "      <th>ram</th>\n",
       "    </tr>\n",
       "  </thead>\n",
       "  <tbody>\n",
       "    <tr>\n",
       "      <th>count</th>\n",
       "      <td>2160.000000</td>\n",
       "    </tr>\n",
       "    <tr>\n",
       "      <th>mean</th>\n",
       "      <td>15.413889</td>\n",
       "    </tr>\n",
       "    <tr>\n",
       "      <th>std</th>\n",
       "      <td>9.867815</td>\n",
       "    </tr>\n",
       "    <tr>\n",
       "      <th>min</th>\n",
       "      <td>4.000000</td>\n",
       "    </tr>\n",
       "    <tr>\n",
       "      <th>25%</th>\n",
       "      <td>8.000000</td>\n",
       "    </tr>\n",
       "    <tr>\n",
       "      <th>50%</th>\n",
       "      <td>16.000000</td>\n",
       "    </tr>\n",
       "    <tr>\n",
       "      <th>75%</th>\n",
       "      <td>16.000000</td>\n",
       "    </tr>\n",
       "    <tr>\n",
       "      <th>max</th>\n",
       "      <td>128.000000</td>\n",
       "    </tr>\n",
       "  </tbody>\n",
       "</table>\n",
       "</div>"
      ],
      "text/plain": [
       "               ram\n",
       "count  2160.000000\n",
       "mean     15.413889\n",
       "std       9.867815\n",
       "min       4.000000\n",
       "25%       8.000000\n",
       "50%      16.000000\n",
       "75%      16.000000\n",
       "max     128.000000"
      ]
     },
     "execution_count": 314,
     "metadata": {},
     "output_type": "execute_result"
    }
   ],
   "source": [
    "df[[\"ram\"]].describe()"
   ]
  },
  {
   "cell_type": "markdown",
   "id": "e52ee599-7c76-4604-aa87-3715da8b7171",
   "metadata": {},
   "source": [
    "- 8\n",
    "- **16**\n",
    "- 24\n",
    "- 32"
   ]
  },
  {
   "cell_type": "markdown",
   "id": "6c1b6a88-2390-490c-9098-d970eb3ce426",
   "metadata": {},
   "source": [
    "### Prepare and split the dataset\n",
    "\n",
    "* Shuffle the dataset (the filtered one you created above), use seed `42`.\n",
    "* Split your data in train/val/test sets, with 60%/20%/20% distribution.\n",
    "\n",
    "Use the same code as in the lectures"
   ]
  },
  {
   "cell_type": "code",
   "execution_count": 315,
   "id": "1c349eb7-9a5f-414a-891e-8a2201533fc2",
   "metadata": {},
   "outputs": [],
   "source": [
    "def split_train_val_test(df, test_size=0.2, val_size=0.2, seed=42):\n",
    "    # Sizes\n",
    "    n = len(df)\n",
    "    n_val = int(n * 0.2)\n",
    "    n_test = int(n * 0.2)\n",
    "    n_train = n - n_val - n_test\n",
    "    print(f\"total: {n}, train: {n_train} ({n_train/n}%), val: {n_val} ({n_val/n}%), test: {n_test} ({n_test/n}%) seed: {seed}\" )\n",
    "    \n",
    "    # Indixes\n",
    "    idx = np.arange(n)\n",
    "    np.random.seed(seed)\n",
    "    np.random.shuffle(idx)\n",
    "    \n",
    "    # Partition\n",
    "    df_train = df.iloc[idx[:n_train]]\n",
    "    df_val = df.iloc[idx[n_train:n_train+n_val]]\n",
    "    df_test = df.iloc[idx[n_train+n_val:]]\n",
    "    \n",
    "    # Reset index\n",
    "    df_train = df_train.reset_index(drop=True)\n",
    "    df_val = df_val.reset_index(drop=True)\n",
    "    df_test = df_test.reset_index(drop=True)\n",
    "\n",
    "    # Return\n",
    "    return df_train, df_val, df_test"
   ]
  },
  {
   "cell_type": "code",
   "execution_count": 316,
   "id": "9eb7200d-1418-4876-9578-609ba5aa228e",
   "metadata": {},
   "outputs": [
    {
     "name": "stdout",
     "output_type": "stream",
     "text": [
      "total: 2160, train: 1296 (0.6%), val: 432 (0.2%), test: 432 (0.2%) seed: 42\n"
     ]
    }
   ],
   "source": [
    "df_train, df_val, df_test = split_train_val_test(df, test_size=0.2, val_size=0.2, seed=42)"
   ]
  },
  {
   "cell_type": "code",
   "execution_count": 317,
   "id": "4a4dc2b9-6c26-4f73-8625-a7c42ed464c8",
   "metadata": {},
   "outputs": [
    {
     "data": {
      "text/plain": [
       "((432, 12), (432, 12))"
      ]
     },
     "execution_count": 317,
     "metadata": {},
     "output_type": "execute_result"
    }
   ],
   "source": [
    "df_val.shape, df_test.shape"
   ]
  },
  {
   "cell_type": "code",
   "execution_count": 318,
   "id": "738913cb-94f9-43dd-a526-fa7fa201f828",
   "metadata": {},
   "outputs": [],
   "source": [
    "#y_train = np.log1p(df_train.final_price.values)\n",
    "#y_val = np.log1p(df_val.final_price.values)\n",
    "#y_test = np.log1p(df_test.final_price.values)\n",
    "y_train = df_train.final_price.values\n",
    "y_val = df_val.final_price.values\n",
    "y_test = df_test.final_price.values"
   ]
  },
  {
   "cell_type": "markdown",
   "id": "9ef84778-8690-4828-a338-24affe71a09d",
   "metadata": {},
   "source": [
    "### Question 3"
   ]
  },
  {
   "cell_type": "markdown",
   "id": "a52dee8c-2f2f-4175-9d85-ebec93467aba",
   "metadata": {},
   "source": [
    "\n",
    "* We need to deal with missing values for the column from Q1.\n",
    "* We have two options: fill it with 0 or with the mean of this variable.\n",
    "* Try both options. For each, train a linear regression model without regularization using the code from the lessons.\n",
    "* For computing the mean, use the training only!\n",
    "* Use the validation dataset to evaluate the models and compare the RMSE of each option.\n",
    "* Round the RMSE scores to 2 decimal digits using `round(score, 2)`\n",
    "* Which option gives better RMSE?\n",
    "\n",
    "Options:\n",
    "\n",
    "- With 0\n",
    "- With mean\n",
    "- Both are equally good"
   ]
  },
  {
   "cell_type": "code",
   "execution_count": 319,
   "id": "21b797b0-0ef4-4d2a-8f1e-9edbe5df65af",
   "metadata": {},
   "outputs": [
    {
     "data": {
      "text/plain": [
       "['storage_type', 'gpu', 'screen']"
      ]
     },
     "execution_count": 319,
     "metadata": {},
     "output_type": "execute_result"
    }
   ],
   "source": [
    "nan_cols = [i for i in df.columns if df[i].isnull().any()]\n",
    "nan_cols"
   ]
  },
  {
   "cell_type": "code",
   "execution_count": 320,
   "id": "586d1df1-2c94-4319-aa36-2eda4753e303",
   "metadata": {},
   "outputs": [],
   "source": [
    "def rmse(y, y_pred):\n",
    "    se = (y - y_pred) ** 2\n",
    "    mse = se.mean()\n",
    "    return np.sqrt(mse)"
   ]
  },
  {
   "cell_type": "code",
   "execution_count": 321,
   "id": "1a8828e9-ffee-4961-b3f4-7d76df3a679b",
   "metadata": {},
   "outputs": [],
   "source": [
    "def train_linear_regression(X, y):\n",
    "    ones = np.ones(X.shape[0])\n",
    "    X = np.column_stack([ones, X])\n",
    "\n",
    "    XTX = X.T.dot(X)\n",
    "    XTX_inv = np.linalg.inv(XTX)\n",
    "    w_full = XTX_inv.dot(X.T).dot(y)\n",
    "    \n",
    "    return w_full[0], w_full[1:]"
   ]
  },
  {
   "cell_type": "code",
   "execution_count": 322,
   "id": "0fc1bc76-2adf-4692-a9dc-7bae0d2d18bb",
   "metadata": {},
   "outputs": [],
   "source": [
    "BASE = ['ram', 'storage', 'screen']"
   ]
  },
  {
   "cell_type": "markdown",
   "id": "cb15ad96-7314-4030-856b-92a0086d7ba5",
   "metadata": {},
   "source": [
    "#### With 0"
   ]
  },
  {
   "cell_type": "code",
   "execution_count": 323,
   "id": "213a2328-b248-4d03-b414-c432c13ac8d1",
   "metadata": {},
   "outputs": [],
   "source": [
    "def prepare_X(df):\n",
    "    df_num = df[BASE]\n",
    "    df_num = df_num.fillna(0)\n",
    "    X = df_num.values\n",
    "    return X"
   ]
  },
  {
   "cell_type": "code",
   "execution_count": 324,
   "id": "0f435424-cbd7-41b1-a24a-e0cfb222c613",
   "metadata": {},
   "outputs": [
    {
     "data": {
      "text/plain": [
       "597.36"
      ]
     },
     "execution_count": 324,
     "metadata": {},
     "output_type": "execute_result"
    }
   ],
   "source": [
    "X_train = prepare_X(df_train)\n",
    "w0, w = train_linear_regression(X_train, y_train)\n",
    "\n",
    "X_val = prepare_X(df_val)\n",
    "y_pred = w0 + X_val.dot(w)\n",
    "score = rmse(y_val, y_pred)\n",
    "\n",
    "round(score, 2)"
   ]
  },
  {
   "cell_type": "code",
   "execution_count": 325,
   "id": "d40d9dfe-b1eb-4893-9c05-a2b98bffc6e7",
   "metadata": {},
   "outputs": [],
   "source": [
    "#zero_columns = np.any(X_train == 0, axis=0)\n",
    "#zero_columns"
   ]
  },
  {
   "cell_type": "markdown",
   "id": "4bfe4cad-cef1-44eb-bed3-b8318cf7d0d7",
   "metadata": {},
   "source": [
    "#### Mean"
   ]
  },
  {
   "cell_type": "code",
   "execution_count": 326,
   "id": "1350f1f4-9606-4834-bd4f-8be6988feefe",
   "metadata": {},
   "outputs": [],
   "source": [
    "def prepare_X_with_mean(df):\n",
    "    df_num = df[BASE]\n",
    "    df_num = df_num.apply(lambda x: x.fillna(x.mean()))\n",
    "    X = df_num.values\n",
    "    return X"
   ]
  },
  {
   "cell_type": "code",
   "execution_count": 327,
   "id": "c004856d-9fb5-4a2b-8333-e6c1d0c296b4",
   "metadata": {},
   "outputs": [
    {
     "data": {
      "text/plain": [
       "597.74"
      ]
     },
     "execution_count": 327,
     "metadata": {},
     "output_type": "execute_result"
    }
   ],
   "source": [
    "X_train = prepare_X_with_mean(df_train)\n",
    "w0, w = train_linear_regression_reg(X_train, y_train)\n",
    "\n",
    "X_val = prepare_X(df_val)\n",
    "y_pred = w0 + X_val.dot(w)\n",
    "score = rmse(y_val, y_pred)\n",
    "\n",
    "round(score, 2)"
   ]
  },
  {
   "cell_type": "code",
   "execution_count": 328,
   "id": "9c88a238-b2e2-4a9a-a204-cb0e80e3ae0c",
   "metadata": {},
   "outputs": [],
   "source": [
    "#zero_columns = np.any(X_train == df.screen.mean(), axis=0)\n",
    "#df_train.isnull().sum()"
   ]
  },
  {
   "cell_type": "markdown",
   "id": "32bd8d7b-f32a-4334-af46-1d205a62a87a",
   "metadata": {},
   "source": [
    "Options:\n",
    "\n",
    "- With 0\n",
    "- With mean\n",
    "- **Both are equally good**"
   ]
  },
  {
   "cell_type": "markdown",
   "id": "2cb90ea5-2859-4058-b38f-6aea0b6c371c",
   "metadata": {},
   "source": [
    "### Question 4\n"
   ]
  },
  {
   "cell_type": "markdown",
   "id": "4ea5f67f-01e1-4d2c-8eb4-cac35c4d1eca",
   "metadata": {},
   "source": [
    "\n",
    "* Now let's train a regularized linear regression.\n",
    "* For this question, fill the NAs with 0. \n",
    "* Try different values of `r` from this list: `[0, 0.01, 0.1, 1, 5, 10, 100]`.\n",
    "* Use RMSE to evaluate the model on the validation dataset.\n",
    "* Round the RMSE scores to 2 decimal digits.\n",
    "* Which `r` gives the best RMSE?\n",
    "\n",
    "If there are multiple options, select the smallest `r`.\n",
    "\n",
    "Options:\n",
    "\n",
    "- 0\n",
    "- 0.01\n",
    "- 1\n",
    "- 10\n",
    "- 100"
   ]
  },
  {
   "cell_type": "code",
   "execution_count": 329,
   "id": "a0b8d56c-7add-4bee-a82f-62a72578be40",
   "metadata": {},
   "outputs": [],
   "source": [
    "def train_linear_regression_reg(X, y, r=0.001):\n",
    "    ones = np.ones(X.shape[0])\n",
    "    X = np.column_stack([ones, X])\n",
    "\n",
    "    XTX = X.T.dot(X)\n",
    "    XTX = XTX + r * np.eye(XTX.shape[0])\n",
    "\n",
    "    XTX_inv = np.linalg.inv(\n",
    "        XTX)\n",
    "    w_full = XTX_inv.dot(X.T).dot(y)\n",
    "    \n",
    "    return w_full[0], w_full[1:]"
   ]
  },
  {
   "cell_type": "code",
   "execution_count": 330,
   "id": "4fb09858-ca3d-4548-b2bd-8248bbae7d07",
   "metadata": {},
   "outputs": [
    {
     "name": "stdout",
     "output_type": "stream",
     "text": [
      "0 676.8954853003995 597.3635593619622 597.36\n",
      "0.01 676.2736817205587 597.3616819856013 597.36\n",
      "0.1 670.7284836314063 597.345159296362 597.35\n",
      "1 619.9030834108207 597.2121215589519 597.21\n",
      "5 463.7771697142356 597.0111186297033 597.01\n",
      "10 352.79713367679835 597.0587680661115 597.06\n",
      "100 66.92071440181994 597.9032640603043 597.9\n"
     ]
    }
   ],
   "source": [
    "rs  = [0, 0.01, 0.1, 1, 5, 10, 100]\n",
    "\n",
    "for r in rs:\n",
    "    X_train = prepare_X(df_train)\n",
    "    w0, w = train_linear_regression_reg(X_train, y_train, r=r)\n",
    "\n",
    "    X_val = prepare_X(df_val)\n",
    "    y_pred = w0 + X_val.dot(w)\n",
    "    score = rmse(y_val, y_pred)\n",
    "    \n",
    "    #print(f\"r={r}, w0, rmse={round(score, 2)}\")\n",
    "    print(r, w0, score, round(score, 2))"
   ]
  },
  {
   "cell_type": "code",
   "execution_count": 338,
   "id": "be47b4eb-474e-47f7-8f9a-bf4f2f2b3d28",
   "metadata": {},
   "outputs": [
    {
     "name": "stdout",
     "output_type": "stream",
     "text": [
      "r=0\n"
     ]
    },
    {
     "data": {
      "text/plain": [
       "576.1017929433108"
      ]
     },
     "execution_count": 338,
     "metadata": {},
     "output_type": "execute_result"
    }
   ],
   "source": [
    "r = rs[0]\n",
    "print(f\"r={r}\")\n",
    "X_train = prepare_X(df_train)\n",
    "w0, w = train_linear_regression_reg(X_train, y_train, r=r)\n",
    "\n",
    "X_val = prepare_X(df_val)\n",
    "y_pred = w0 + X_val.dot(w)\n",
    "score = rmse(y_val, y_pred)\n",
    "score"
   ]
  },
  {
   "cell_type": "markdown",
   "id": "8e0d0d1a-c3c3-44e9-9123-5b6cf5b70a7a",
   "metadata": {},
   "source": [
    "- **0**\n",
    "- 0.01\n",
    "- 1\n",
    "- 10\n",
    "- 100"
   ]
  },
  {
   "cell_type": "markdown",
   "id": "4e865f7b-7f88-4457-b028-b14a9ed8337d",
   "metadata": {},
   "source": [
    "### Question 5 "
   ]
  },
  {
   "cell_type": "markdown",
   "id": "3957d017-b94b-4ac1-abbf-dae1dde841b3",
   "metadata": {},
   "source": [
    "\n",
    "* We used seed 42 for splitting the data. Let's find out how selecting the seed influences our score.\n",
    "* Try different seed values: `[0, 1, 2, 3, 4, 5, 6, 7, 8, 9]`.\n",
    "* For each seed, do the train/validation/test split with 60%/20%/20% distribution.\n",
    "* Fill the missing values with 0 and train a model without regularization.\n",
    "* For each seed, evaluate the model on the validation dataset and collect the RMSE scores. \n",
    "* What's the standard deviation of all the scores? To compute the standard deviation, use `np.std`.\n",
    "* Round the result to 3 decimal digits (`round(std, 3)`)\n",
    "\n",
    "What's the value of std?\n",
    "\n",
    "- 19.176\n",
    "- 29.176\n",
    "- 39.176\n",
    "- 49.176\n",
    "\n",
    "> Note: Standard deviation shows how different the values are.\n",
    "> If it's low, then all values are approximately the same.\n",
    "> If it's high, the values are different. \n",
    "> If standard deviation of scores is low, then our model is *stable*."
   ]
  },
  {
   "cell_type": "code",
   "execution_count": 332,
   "id": "6ea1e33e-1e55-4bf8-a56a-3c02d9c69e0c",
   "metadata": {},
   "outputs": [
    {
     "name": "stdout",
     "output_type": "stream",
     "text": [
      "total: 2160, train: 1296 (0.6%), val: 432 (0.2%), test: 432 (0.2%) seed: 0\n",
      "total: 2160, train: 1296 (0.6%), val: 432 (0.2%), test: 432 (0.2%) seed: 1\n",
      "total: 2160, train: 1296 (0.6%), val: 432 (0.2%), test: 432 (0.2%) seed: 2\n",
      "total: 2160, train: 1296 (0.6%), val: 432 (0.2%), test: 432 (0.2%) seed: 3\n",
      "total: 2160, train: 1296 (0.6%), val: 432 (0.2%), test: 432 (0.2%) seed: 4\n",
      "total: 2160, train: 1296 (0.6%), val: 432 (0.2%), test: 432 (0.2%) seed: 5\n",
      "total: 2160, train: 1296 (0.6%), val: 432 (0.2%), test: 432 (0.2%) seed: 6\n",
      "total: 2160, train: 1296 (0.6%), val: 432 (0.2%), test: 432 (0.2%) seed: 7\n",
      "total: 2160, train: 1296 (0.6%), val: 432 (0.2%), test: 432 (0.2%) seed: 8\n",
      "total: 2160, train: 1296 (0.6%), val: 432 (0.2%), test: 432 (0.2%) seed: 9\n"
     ]
    }
   ],
   "source": [
    "seed_list = [0, 1, 2, 3, 4, 5, 6, 7, 8, 9]\n",
    "results = []\n",
    "for seed in seed_list:\n",
    "    df_train, df_val, df_test = split_train_val_test(df, test_size=0.2, val_size=0.2, seed=seed)\n",
    "    #y_train = np.log1p(df_train.final_price.values)\n",
    "    #y_val = np.log1p(df_val.final_price.values)\n",
    "    #y_test = np.log1p(df_test.final_price.values)\n",
    "    y_train = df_train.final_price.values\n",
    "    y_val = df_val.final_price.values\n",
    "    y_test = df_test.final_price.values\n",
    "\n",
    "    X_train = prepare_X(df_train)\n",
    "    w0, w = train_linear_regression(X_train, y_train)\n",
    "    \n",
    "    X_val = prepare_X(df_val)\n",
    "    y_pred = w0 + X_val.dot(w)\n",
    "    score = rmse(y_val, y_pred)\n",
    "    \n",
    "    #scores = round(score, 2)\n",
    "    #print(f\"y_pred: {np.expm1(np.std(y_pred))} score: {score}\")\n",
    "    results.append(score)"
   ]
  },
  {
   "cell_type": "code",
   "execution_count": 333,
   "id": "1f6ef954-6a25-4d75-baca-f7bffb61e5f2",
   "metadata": {},
   "outputs": [
    {
     "data": {
      "text/plain": [
       "[565.4520868771027,\n",
       " 636.7985423056726,\n",
       " 588.9558697907962,\n",
       " 597.8148920012521,\n",
       " 571.962791511102,\n",
       " 573.2383256618949,\n",
       " 647.3438328407208,\n",
       " 550.4398184485952,\n",
       " 587.333503616991,\n",
       " 576.1017929433108]"
      ]
     },
     "execution_count": 333,
     "metadata": {},
     "output_type": "execute_result"
    }
   ],
   "source": [
    "results"
   ]
  },
  {
   "cell_type": "code",
   "execution_count": 334,
   "id": "f9a9b7db-9cf9-461e-947f-2f42709c6103",
   "metadata": {},
   "outputs": [
    {
     "data": {
      "text/plain": [
       "29.176"
      ]
     },
     "execution_count": 334,
     "metadata": {},
     "output_type": "execute_result"
    }
   ],
   "source": [
    "res = np.std(np.array(results))\n",
    "round(res, 3)"
   ]
  },
  {
   "cell_type": "markdown",
   "id": "cff6deb8-1e9b-4729-bb5f-a85a4ed6a44e",
   "metadata": {},
   "source": [
    "\n",
    "- 19.176\n",
    "- **29.176**\n",
    "- 39.176\n",
    "- 49.176"
   ]
  },
  {
   "cell_type": "markdown",
   "id": "df6e3a60-0635-4c1d-bc40-4db0b7c829f5",
   "metadata": {},
   "source": [
    "### Question 6"
   ]
  },
  {
   "cell_type": "markdown",
   "id": "de4f3097-0faf-45d3-91f8-ce1456d9e40d",
   "metadata": {},
   "source": [
    "\n",
    "* Split the dataset like previously, use seed 9.\n",
    "* Combine train and validation datasets.\n",
    "* Fill the missing values with 0 and train a model with `r=0.001`. \n",
    "* What's the RMSE on the test dataset?\n",
    "\n",
    "Options:\n",
    "\n",
    "- 598.60\n",
    "- 608.60\n",
    "- 618.60\n",
    "- 628.60"
   ]
  },
  {
   "cell_type": "code",
   "execution_count": 335,
   "id": "a9b74ecf-5038-4e75-afe8-996dc4baaaa4",
   "metadata": {},
   "outputs": [
    {
     "name": "stdout",
     "output_type": "stream",
     "text": [
      "total: 2160, train: 1296 (0.6%), val: 432 (0.2%), test: 432 (0.2%) seed: 9\n"
     ]
    }
   ],
   "source": [
    "seed = 9\n",
    "r=0.001\n",
    "df_train, df_val, df_test = split_train_val_test(df, test_size=0.2, val_size=0.2, seed=seed)\n",
    "df_full_train = pd.concat([df_train, df_val])\n",
    "df_full_train = df_full_train.reset_index(drop=True)\n",
    "\n",
    "#y_train = np.log1p(df_train.final_price.values)\n",
    "#y_val = np.log1p(df_val.final_price.values)\n",
    "#y_test = np.log1p(df_test.final_price.values)\n",
    "y_train = df_train.final_price.values\n",
    "y_val = df_val.final_price.values\n",
    "y_test = df_test.final_price.values\n",
    "y_full_train = np.concatenate([y_train, y_val])\n"
   ]
  },
  {
   "cell_type": "code",
   "execution_count": 336,
   "id": "4723390b-fd4d-4e55-b9d3-c933b1f74c4f",
   "metadata": {},
   "outputs": [],
   "source": [
    "X_full_train = prepare_X(df_full_train)\n",
    "w0, w = train_linear_regression_reg(X_full_train, y_full_train, r=r)"
   ]
  },
  {
   "cell_type": "code",
   "execution_count": 337,
   "id": "fcaf4f9a-b9b8-4ddb-866d-7fe768cb6542",
   "metadata": {},
   "outputs": [
    {
     "name": "stdout",
     "output_type": "stream",
     "text": [
      "608.609982204956\n"
     ]
    }
   ],
   "source": [
    "X_test = prepare_X(df_test)\n",
    "y_pred = w0 + X_test.dot(w)\n",
    "score = rmse(y_test, y_pred)\n",
    "print(score)"
   ]
  },
  {
   "cell_type": "markdown",
   "id": "0838aee6-f59c-44fc-8a27-b62cfa222379",
   "metadata": {},
   "source": [
    "Options:\n",
    "\n",
    "- 598.60\n",
    "- **608.60**\n",
    "- 618.60\n",
    "- 628.60"
   ]
  },
  {
   "cell_type": "code",
   "execution_count": null,
   "id": "146fdd4b-a1ae-4f97-bc46-7a78c80e2ee9",
   "metadata": {},
   "outputs": [],
   "source": []
  }
 ],
 "metadata": {
  "kernelspec": {
   "display_name": "Python 3 (ipykernel)",
   "language": "python",
   "name": "python3"
  },
  "language_info": {
   "codemirror_mode": {
    "name": "ipython",
    "version": 3
   },
   "file_extension": ".py",
   "mimetype": "text/x-python",
   "name": "python",
   "nbconvert_exporter": "python",
   "pygments_lexer": "ipython3",
   "version": "3.10.12"
  }
 },
 "nbformat": 4,
 "nbformat_minor": 5
}
